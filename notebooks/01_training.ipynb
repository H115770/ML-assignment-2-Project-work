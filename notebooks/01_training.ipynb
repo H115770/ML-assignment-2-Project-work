{
  "nbformat": 4,
  "nbformat_minor": 0,
  "metadata": {
    "colab": {
      "provenance": [],
      "authorship_tag": "ABX9TyOabwc4htxGaiER/nS8+nmC"
    },
    "kernelspec": {
      "name": "python3",
      "display_name": "Python 3"
    },
    "language_info": {
      "name": "python"
    }
  },
  "cells": [
    {
      "cell_type": "code",
      "execution_count": null,
      "metadata": {
        "id": "9bL-0Vp55Orr"
      },
      "outputs": [],
      "source": []
    },
    {
      "cell_type": "markdown",
      "source": [
        "### DAT158: ML-assignment-2-Project-work"
      ],
      "metadata": {
        "id": "MXREDK_P5PXh"
      }
    }
  ]
}