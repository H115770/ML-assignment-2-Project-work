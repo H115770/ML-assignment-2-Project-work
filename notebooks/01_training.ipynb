{
  "cells": [
    {
      "cell_type": "markdown",
      "metadata": {
        "id": "MXREDK_P5PXh"
      },
      "source": [
        "### DAT158: ML-assignment-2-Project-work"
      ]
    },
    {
      "cell_type": "code",
      "execution_count": 38,
      "metadata": {},
      "outputs": [],
      "source": [
        "import pandas as pd\n",
        "\n",
        "df_train = pd.read_csv(\"train.csv\")\n",
        "df_test = pd.read_csv(\"test.csv\")\n"
      ]
    },
    {
      "cell_type": "code",
      "execution_count": 41,
      "metadata": {},
      "outputs": [
        {
          "data": {
            "text/html": [
              "<div>\n",
              "<style scoped>\n",
              "    .dataframe tbody tr th:only-of-type {\n",
              "        vertical-align: middle;\n",
              "    }\n",
              "\n",
              "    .dataframe tbody tr th {\n",
              "        vertical-align: top;\n",
              "    }\n",
              "\n",
              "    .dataframe thead th {\n",
              "        text-align: right;\n",
              "    }\n",
              "</style>\n",
              "<table border=\"1\" class=\"dataframe\">\n",
              "  <thead>\n",
              "    <tr style=\"text-align: right;\">\n",
              "      <th></th>\n",
              "      <th>id</th>\n",
              "      <th>brand</th>\n",
              "      <th>model</th>\n",
              "      <th>model_year</th>\n",
              "      <th>milage</th>\n",
              "      <th>fuel_type</th>\n",
              "      <th>engine</th>\n",
              "      <th>transmission</th>\n",
              "      <th>ext_col</th>\n",
              "      <th>int_col</th>\n",
              "      <th>accident</th>\n",
              "      <th>clean_title</th>\n",
              "    </tr>\n",
              "  </thead>\n",
              "  <tbody>\n",
              "    <tr>\n",
              "      <th>0</th>\n",
              "      <td>188533</td>\n",
              "      <td>Land</td>\n",
              "      <td>Rover LR2 Base</td>\n",
              "      <td>2015</td>\n",
              "      <td>98000</td>\n",
              "      <td>Gasoline</td>\n",
              "      <td>240.0HP 2.0L 4 Cylinder Engine Gasoline Fuel</td>\n",
              "      <td>6-Speed A/T</td>\n",
              "      <td>White</td>\n",
              "      <td>Beige</td>\n",
              "      <td>None reported</td>\n",
              "      <td>Yes</td>\n",
              "    </tr>\n",
              "    <tr>\n",
              "      <th>1</th>\n",
              "      <td>188534</td>\n",
              "      <td>Land</td>\n",
              "      <td>Rover Defender SE</td>\n",
              "      <td>2020</td>\n",
              "      <td>9142</td>\n",
              "      <td>Hybrid</td>\n",
              "      <td>395.0HP 3.0L Straight 6 Cylinder Engine Gasoli...</td>\n",
              "      <td>8-Speed A/T</td>\n",
              "      <td>Silver</td>\n",
              "      <td>Black</td>\n",
              "      <td>None reported</td>\n",
              "      <td>Yes</td>\n",
              "    </tr>\n",
              "    <tr>\n",
              "      <th>2</th>\n",
              "      <td>188535</td>\n",
              "      <td>Ford</td>\n",
              "      <td>Expedition Limited</td>\n",
              "      <td>2022</td>\n",
              "      <td>28121</td>\n",
              "      <td>Gasoline</td>\n",
              "      <td>3.5L V6 24V PDI DOHC Twin Turbo</td>\n",
              "      <td>10-Speed Automatic</td>\n",
              "      <td>White</td>\n",
              "      <td>Ebony</td>\n",
              "      <td>None reported</td>\n",
              "      <td>NaN</td>\n",
              "    </tr>\n",
              "    <tr>\n",
              "      <th>3</th>\n",
              "      <td>188536</td>\n",
              "      <td>Audi</td>\n",
              "      <td>A6 2.0T Sport</td>\n",
              "      <td>2016</td>\n",
              "      <td>61258</td>\n",
              "      <td>Gasoline</td>\n",
              "      <td>2.0 Liter TFSI</td>\n",
              "      <td>Automatic</td>\n",
              "      <td>Silician Yellow</td>\n",
              "      <td>Black</td>\n",
              "      <td>None reported</td>\n",
              "      <td>NaN</td>\n",
              "    </tr>\n",
              "    <tr>\n",
              "      <th>4</th>\n",
              "      <td>188537</td>\n",
              "      <td>Audi</td>\n",
              "      <td>A6 2.0T Premium Plus</td>\n",
              "      <td>2018</td>\n",
              "      <td>59000</td>\n",
              "      <td>Gasoline</td>\n",
              "      <td>252.0HP 2.0L 4 Cylinder Engine Gasoline Fuel</td>\n",
              "      <td>A/T</td>\n",
              "      <td>Gray</td>\n",
              "      <td>Black</td>\n",
              "      <td>None reported</td>\n",
              "      <td>Yes</td>\n",
              "    </tr>\n",
              "  </tbody>\n",
              "</table>\n",
              "</div>"
            ],
            "text/plain": [
              "       id brand                 model  model_year  milage fuel_type  \\\n",
              "0  188533  Land        Rover LR2 Base        2015   98000  Gasoline   \n",
              "1  188534  Land     Rover Defender SE        2020    9142    Hybrid   \n",
              "2  188535  Ford    Expedition Limited        2022   28121  Gasoline   \n",
              "3  188536  Audi         A6 2.0T Sport        2016   61258  Gasoline   \n",
              "4  188537  Audi  A6 2.0T Premium Plus        2018   59000  Gasoline   \n",
              "\n",
              "                                              engine        transmission  \\\n",
              "0       240.0HP 2.0L 4 Cylinder Engine Gasoline Fuel         6-Speed A/T   \n",
              "1  395.0HP 3.0L Straight 6 Cylinder Engine Gasoli...         8-Speed A/T   \n",
              "2                    3.5L V6 24V PDI DOHC Twin Turbo  10-Speed Automatic   \n",
              "3                                     2.0 Liter TFSI           Automatic   \n",
              "4       252.0HP 2.0L 4 Cylinder Engine Gasoline Fuel                 A/T   \n",
              "\n",
              "           ext_col int_col       accident clean_title  \n",
              "0            White   Beige  None reported         Yes  \n",
              "1           Silver   Black  None reported         Yes  \n",
              "2            White   Ebony  None reported         NaN  \n",
              "3  Silician Yellow   Black  None reported         NaN  \n",
              "4             Gray   Black  None reported         Yes  "
            ]
          },
          "execution_count": 41,
          "metadata": {},
          "output_type": "execute_result"
        }
      ],
      "source": [
        "df_test.head()"
      ]
    },
    {
      "cell_type": "code",
      "execution_count": 16,
      "metadata": {},
      "outputs": [
        {
          "data": {
            "text/html": [
              "<div>\n",
              "<style scoped>\n",
              "    .dataframe tbody tr th:only-of-type {\n",
              "        vertical-align: middle;\n",
              "    }\n",
              "\n",
              "    .dataframe tbody tr th {\n",
              "        vertical-align: top;\n",
              "    }\n",
              "\n",
              "    .dataframe thead th {\n",
              "        text-align: right;\n",
              "    }\n",
              "</style>\n",
              "<table border=\"1\" class=\"dataframe\">\n",
              "  <thead>\n",
              "    <tr style=\"text-align: right;\">\n",
              "      <th></th>\n",
              "      <th>id</th>\n",
              "      <th>brand</th>\n",
              "      <th>model</th>\n",
              "      <th>model_year</th>\n",
              "      <th>milage</th>\n",
              "      <th>fuel_type</th>\n",
              "      <th>engine</th>\n",
              "      <th>transmission</th>\n",
              "      <th>ext_col</th>\n",
              "      <th>int_col</th>\n",
              "      <th>accident</th>\n",
              "      <th>clean_title</th>\n",
              "      <th>price</th>\n",
              "    </tr>\n",
              "  </thead>\n",
              "  <tbody>\n",
              "    <tr>\n",
              "      <th>0</th>\n",
              "      <td>0</td>\n",
              "      <td>MINI</td>\n",
              "      <td>Cooper S Base</td>\n",
              "      <td>2007</td>\n",
              "      <td>213000</td>\n",
              "      <td>Gasoline</td>\n",
              "      <td>172.0HP 1.6L 4 Cylinder Engine Gasoline Fuel</td>\n",
              "      <td>A/T</td>\n",
              "      <td>Yellow</td>\n",
              "      <td>Gray</td>\n",
              "      <td>None reported</td>\n",
              "      <td>Yes</td>\n",
              "      <td>4200</td>\n",
              "    </tr>\n",
              "    <tr>\n",
              "      <th>1</th>\n",
              "      <td>1</td>\n",
              "      <td>Lincoln</td>\n",
              "      <td>LS V8</td>\n",
              "      <td>2002</td>\n",
              "      <td>143250</td>\n",
              "      <td>Gasoline</td>\n",
              "      <td>252.0HP 3.9L 8 Cylinder Engine Gasoline Fuel</td>\n",
              "      <td>A/T</td>\n",
              "      <td>Silver</td>\n",
              "      <td>Beige</td>\n",
              "      <td>At least 1 accident or damage reported</td>\n",
              "      <td>Yes</td>\n",
              "      <td>4999</td>\n",
              "    </tr>\n",
              "    <tr>\n",
              "      <th>2</th>\n",
              "      <td>2</td>\n",
              "      <td>Chevrolet</td>\n",
              "      <td>Silverado 2500 LT</td>\n",
              "      <td>2002</td>\n",
              "      <td>136731</td>\n",
              "      <td>E85 Flex Fuel</td>\n",
              "      <td>320.0HP 5.3L 8 Cylinder Engine Flex Fuel Capab...</td>\n",
              "      <td>A/T</td>\n",
              "      <td>Blue</td>\n",
              "      <td>Gray</td>\n",
              "      <td>None reported</td>\n",
              "      <td>Yes</td>\n",
              "      <td>13900</td>\n",
              "    </tr>\n",
              "    <tr>\n",
              "      <th>3</th>\n",
              "      <td>3</td>\n",
              "      <td>Genesis</td>\n",
              "      <td>G90 5.0 Ultimate</td>\n",
              "      <td>2017</td>\n",
              "      <td>19500</td>\n",
              "      <td>Gasoline</td>\n",
              "      <td>420.0HP 5.0L 8 Cylinder Engine Gasoline Fuel</td>\n",
              "      <td>Transmission w/Dual Shift Mode</td>\n",
              "      <td>Black</td>\n",
              "      <td>Black</td>\n",
              "      <td>None reported</td>\n",
              "      <td>Yes</td>\n",
              "      <td>45000</td>\n",
              "    </tr>\n",
              "    <tr>\n",
              "      <th>4</th>\n",
              "      <td>4</td>\n",
              "      <td>Mercedes-Benz</td>\n",
              "      <td>Metris Base</td>\n",
              "      <td>2021</td>\n",
              "      <td>7388</td>\n",
              "      <td>Gasoline</td>\n",
              "      <td>208.0HP 2.0L 4 Cylinder Engine Gasoline Fuel</td>\n",
              "      <td>7-Speed A/T</td>\n",
              "      <td>Black</td>\n",
              "      <td>Beige</td>\n",
              "      <td>None reported</td>\n",
              "      <td>Yes</td>\n",
              "      <td>97500</td>\n",
              "    </tr>\n",
              "  </tbody>\n",
              "</table>\n",
              "</div>"
            ],
            "text/plain": [
              "   id          brand              model  model_year  milage      fuel_type  \\\n",
              "0   0           MINI      Cooper S Base        2007  213000       Gasoline   \n",
              "1   1        Lincoln              LS V8        2002  143250       Gasoline   \n",
              "2   2      Chevrolet  Silverado 2500 LT        2002  136731  E85 Flex Fuel   \n",
              "3   3        Genesis   G90 5.0 Ultimate        2017   19500       Gasoline   \n",
              "4   4  Mercedes-Benz        Metris Base        2021    7388       Gasoline   \n",
              "\n",
              "                                              engine  \\\n",
              "0       172.0HP 1.6L 4 Cylinder Engine Gasoline Fuel   \n",
              "1       252.0HP 3.9L 8 Cylinder Engine Gasoline Fuel   \n",
              "2  320.0HP 5.3L 8 Cylinder Engine Flex Fuel Capab...   \n",
              "3       420.0HP 5.0L 8 Cylinder Engine Gasoline Fuel   \n",
              "4       208.0HP 2.0L 4 Cylinder Engine Gasoline Fuel   \n",
              "\n",
              "                     transmission ext_col int_col  \\\n",
              "0                             A/T  Yellow    Gray   \n",
              "1                             A/T  Silver   Beige   \n",
              "2                             A/T    Blue    Gray   \n",
              "3  Transmission w/Dual Shift Mode   Black   Black   \n",
              "4                     7-Speed A/T   Black   Beige   \n",
              "\n",
              "                                 accident clean_title  price  \n",
              "0                           None reported         Yes   4200  \n",
              "1  At least 1 accident or damage reported         Yes   4999  \n",
              "2                           None reported         Yes  13900  \n",
              "3                           None reported         Yes  45000  \n",
              "4                           None reported         Yes  97500  "
            ]
          },
          "execution_count": 16,
          "metadata": {},
          "output_type": "execute_result"
        }
      ],
      "source": [
        "df_train.head()"
      ]
    },
    {
      "cell_type": "code",
      "execution_count": 43,
      "metadata": {},
      "outputs": [],
      "source": [
        "df_train = df_train.drop(columns=[\"id\"])\n",
        "df_test = df_test.drop(columns=[\"id\"])"
      ]
    },
    {
      "cell_type": "code",
      "execution_count": 44,
      "metadata": {},
      "outputs": [
        {
          "data": {
            "text/plain": [
              "brand               0\n",
              "model               0\n",
              "model_year          0\n",
              "milage              0\n",
              "fuel_type        5083\n",
              "engine              0\n",
              "transmission        0\n",
              "ext_col             0\n",
              "int_col             0\n",
              "accident         2452\n",
              "clean_title     21419\n",
              "price               0\n",
              "dtype: int64"
            ]
          },
          "execution_count": 44,
          "metadata": {},
          "output_type": "execute_result"
        }
      ],
      "source": [
        "df_train.isnull().sum()"
      ]
    },
    {
      "cell_type": "code",
      "execution_count": 45,
      "metadata": {},
      "outputs": [
        {
          "data": {
            "text/plain": [
              "brand               0\n",
              "model               0\n",
              "model_year          0\n",
              "milage              0\n",
              "fuel_type        3383\n",
              "engine              0\n",
              "transmission        0\n",
              "ext_col             0\n",
              "int_col             0\n",
              "accident         1632\n",
              "clean_title     14239\n",
              "dtype: int64"
            ]
          },
          "execution_count": 45,
          "metadata": {},
          "output_type": "execute_result"
        }
      ],
      "source": [
        "df_test.isnull().sum()"
      ]
    },
    {
      "cell_type": "code",
      "execution_count": 46,
      "metadata": {},
      "outputs": [
        {
          "data": {
            "text/plain": [
              "Index(['brand', 'model', 'model_year', 'milage', 'fuel_type', 'engine',\n",
              "       'transmission', 'ext_col', 'int_col', 'accident', 'clean_title',\n",
              "       'price'],\n",
              "      dtype='object')"
            ]
          },
          "execution_count": 46,
          "metadata": {},
          "output_type": "execute_result"
        }
      ],
      "source": [
        "df_train.columns"
      ]
    },
    {
      "cell_type": "code",
      "execution_count": 47,
      "metadata": {},
      "outputs": [
        {
          "data": {
            "text/plain": [
              "Index(['brand', 'model', 'model_year', 'milage', 'fuel_type', 'engine',\n",
              "       'transmission', 'ext_col', 'int_col', 'accident', 'clean_title'],\n",
              "      dtype='object')"
            ]
          },
          "execution_count": 47,
          "metadata": {},
          "output_type": "execute_result"
        }
      ],
      "source": [
        "df_test.columns"
      ]
    },
    {
      "cell_type": "code",
      "execution_count": 48,
      "metadata": {},
      "outputs": [
        {
          "name": "stdout",
          "output_type": "stream",
          "text": [
            "<class 'pandas.core.frame.DataFrame'>\n",
            "RangeIndex: 188533 entries, 0 to 188532\n",
            "Data columns (total 12 columns):\n",
            " #   Column        Non-Null Count   Dtype \n",
            "---  ------        --------------   ----- \n",
            " 0   brand         188533 non-null  object\n",
            " 1   model         188533 non-null  object\n",
            " 2   model_year    188533 non-null  int64 \n",
            " 3   milage        188533 non-null  int64 \n",
            " 4   fuel_type     183450 non-null  object\n",
            " 5   engine        188533 non-null  object\n",
            " 6   transmission  188533 non-null  object\n",
            " 7   ext_col       188533 non-null  object\n",
            " 8   int_col       188533 non-null  object\n",
            " 9   accident      186081 non-null  object\n",
            " 10  clean_title   167114 non-null  object\n",
            " 11  price         188533 non-null  int64 \n",
            "dtypes: int64(3), object(9)\n",
            "memory usage: 17.3+ MB\n"
          ]
        }
      ],
      "source": [
        "df_train.info()"
      ]
    },
    {
      "cell_type": "code",
      "execution_count": 24,
      "metadata": {},
      "outputs": [
        {
          "name": "stdout",
          "output_type": "stream",
          "text": [
            "Kolonner med mer enn 10% manglende verdier i df_train:\n",
            "fuel_type       2.696080\n",
            "accident        1.300568\n",
            "clean_title    11.360876\n",
            "dtype: float64\n",
            "\n",
            "Kolonner med mer enn 10% manglende verdier i df_test:\n",
            "fuel_type       2.691543\n",
            "accident        1.298433\n",
            "clean_title    11.328666\n",
            "dtype: float64\n"
          ]
        }
      ],
      "source": [
        "import seaborn as sns\n",
        "\n",
        "missing_train = df_train.isna().mean() * 100\n",
        "missing_test = df_test.isna().mean() * 100\n",
        "\n",
        "print(\"Kolonner med mer enn 10% manglende verdier i df_train:\")\n",
        "print(missing_train[missing_train > 0])\n",
        "\n",
        "print(\"\\nKolonner med mer enn 10% manglende verdier i df_test:\")\n",
        "print(missing_test[missing_test > 0])"
      ]
    },
    {
      "cell_type": "code",
      "execution_count": null,
      "metadata": {},
      "outputs": [
        {
          "name": "stdout",
          "output_type": "stream",
          "text": [
            "Numerical columns: ['model_year', 'milage', 'price']\n",
            "\n",
            "Categorical columns: ['brand', 'model', 'fuel_type', 'engine', 'transmission', 'ext_col', 'int_col', 'accident', 'clean_title']\n"
          ]
        }
      ],
      "source": [
        "# Analyserer numeriske og kategoriske kolonner separat\n",
        "numerical_columns = df_train.select_dtypes(include=['int64', 'float64']).columns\n",
        "categorical_columns = df_train.select_dtypes(include=['object']).columns\n",
        "\n",
        "print(\"Numeriske kolonner:\", numerical_columns.tolist())\n",
        "print(\"\\nKategoriske kolonner:\", categorical_columns.tolist())"
      ]
    },
    {
      "cell_type": "code",
      "execution_count": null,
      "metadata": {},
      "outputs": [
        {
          "name": "stdout",
          "output_type": "stream",
          "text": [
            "Filled missing values in fuel_type with mode: Gasoline\n",
            "Filled missing values in accident with mode: None reported\n",
            "Filled missing values in clean_title with mode: Yes\n",
            "\n",
            "Missing values after cleaning:\n",
            "Training set:\n",
            " 0\n",
            "Test set:\n",
            " 0\n"
          ]
        }
      ],
      "source": [
        "\n",
        "#For numeriske kolonner fyller vi manglende verdier med medianen\n",
        "for col in numerical_columns:\n",
        "    if df_train[col].isnull().any():\n",
        "        median_value = df_train[col].median()\n",
        "        df_train[col].fillna(median_value, inplace=True)\n",
        "        df_test[col].fillna(median_value, inplace=True)\n",
        "        print(f\"Fylt inn mangelnde verdier i {col} med median: {median_value}\")\n",
        "\n",
        "#For kategoriske kolonner fyller vi manglende verdier med den mest forekommende verdien\n",
        "for col in categorical_columns:\n",
        "    if df_train[col].isnull().any():\n",
        "        mode_value = df_train[col].mode()[0]\n",
        "        df_train[col].fillna(mode_value, inplace=True)\n",
        "        df_test[col].fillna(mode_value, inplace=True)\n",
        "        print(f\"Fylt inn mangelnde verdier i {col} med modus: {mode_value}\")\n",
        "\n",
        "# Dobbeltsjekk for å sikre at alle manglende verdier er håndtert\n",
        "print(\"\\nManglende verdier etter rydding:\")\n",
        "print(\"Training set:\\n\", df_train.isnull().sum().sum())\n",
        "print(\"Test set:\\n\", df_test.isnull().sum().sum())"
      ]
    }
  ],
  "metadata": {
    "colab": {
      "authorship_tag": "ABX9TyOabwc4htxGaiER/nS8+nmC",
      "provenance": []
    },
    "kernelspec": {
      "display_name": ".venv",
      "language": "python",
      "name": "python3"
    },
    "language_info": {
      "codemirror_mode": {
        "name": "ipython",
        "version": 3
      },
      "file_extension": ".py",
      "mimetype": "text/x-python",
      "name": "python",
      "nbconvert_exporter": "python",
      "pygments_lexer": "ipython3",
      "version": "3.14.0"
    }
  },
  "nbformat": 4,
  "nbformat_minor": 0
}
